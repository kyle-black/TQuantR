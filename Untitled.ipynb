{
 "cells": [
  {
   "cell_type": "code",
   "execution_count": 1,
   "id": "87219bbb-a406-42dc-a74d-ede1e0d91f70",
   "metadata": {},
   "outputs": [],
   "source": [
    "import pandas as pd\n",
    "import os\n",
    "import datetime"
   ]
  },
  {
   "cell_type": "code",
   "execution_count": null,
   "id": "d1f0059f-e488-4ee4-b8b9-7201c0ec2b32",
   "metadata": {},
   "outputs": [],
   "source": []
  },
  {
   "cell_type": "code",
   "execution_count": 2,
   "id": "77d76587-6c92-4dbd-a8d9-944f5febcaf4",
   "metadata": {},
   "outputs": [
    {
     "ename": "FileNotFoundError",
     "evalue": "[Errno 2] No such file or directory: 'data/new_fx_data/'",
     "output_type": "error",
     "traceback": [
      "\u001b[0;31m---------------------------------------------------------------------------\u001b[0m",
      "\u001b[0;31mFileNotFoundError\u001b[0m                         Traceback (most recent call last)",
      "Cell \u001b[0;32mIn[2], line 2\u001b[0m\n\u001b[1;32m      1\u001b[0m path \u001b[38;5;241m=\u001b[39m \u001b[38;5;124m'\u001b[39m\u001b[38;5;124mdata/new_fx_data/\u001b[39m\u001b[38;5;124m'\u001b[39m\n\u001b[0;32m----> 2\u001b[0m file_list \u001b[38;5;241m=\u001b[39m \u001b[43mos\u001b[49m\u001b[38;5;241;43m.\u001b[39;49m\u001b[43mlistdir\u001b[49m\u001b[43m(\u001b[49m\u001b[43mpath\u001b[49m\u001b[43m)\u001b[49m\n\u001b[1;32m      4\u001b[0m \u001b[38;5;66;03m# Initialize an empty DataFrame to store the data\u001b[39;00m\n\u001b[1;32m      5\u001b[0m combined_df \u001b[38;5;241m=\u001b[39m pd\u001b[38;5;241m.\u001b[39mDataFrame()\n",
      "\u001b[0;31mFileNotFoundError\u001b[0m: [Errno 2] No such file or directory: 'data/new_fx_data/'"
     ]
    }
   ],
   "source": [
    "path = 'data/new_fx_data/'\n",
    "file_list = os.listdir(path)\n",
    "\n",
    "# Initialize an empty DataFrame to store the data\n",
    "combined_df = pd.DataFrame()\n",
    "\n",
    "for filename in file_list:\n",
    "    if not filename.startswith('.'):  # Skip files that start with a dot (e.g., .ipynb_checkpoints)\n",
    "        try:\n",
    "            name = filename.split('_')\n",
    "\n",
    "            if len(name) > 1:\n",
    "                new_name = name[0]  # Extract the name before the underscore\n",
    "                full_path = os.path.join(path, filename)\n",
    "\n",
    "                # Read the CSV file and rename its columns\n",
    "                df = pd.read_csv(full_path)\n",
    "\n",
    "                # Convert the 'Time' column to integer Unix timestamp\n",
    "              \n",
    "                df = df.dropna()\n",
    "\n",
    "             \n",
    "\n",
    "                df = df.rename(columns={'time':'Date','open':'Open', 'high':'High', 'low':'Low', 'close':'Close'})\n",
    "                df =df.set_index('Date')\n",
    "\n",
    "               # df.index = pd.to_datetime(df.index, unit='s')\n",
    "                columns_to_rename = {col: f\"{new_name}_{col}\" for col in df.columns}\n",
    "\n",
    "                \n",
    "\n",
    "\n",
    "                \n",
    "\n",
    "                # Rename columns and set 'Time' as the index\n",
    "                df.rename(columns=columns_to_rename, inplace=True)\n",
    "               # df.set_index('Date')  \n",
    "               # print(df)\n",
    "                # Add the data to the combined DataFrame\n",
    "                combined_df = pd.concat([combined_df, df], axis=1)\n",
    "                print(combined_df)\n",
    "            else:\n",
    "                print('No underscore found in filename:', filename)\n",
    "        except:\n",
    "            print('Error processing file:', filename)\n",
    "\n",
    "# Now, combined_df contains all the data from the CSV files with the 'Time' column in datetime format\n"
   ]
  },
  {
   "cell_type": "code",
   "execution_count": null,
   "id": "1b30a757-f01c-4950-a00f-06868b1013f6",
   "metadata": {},
   "outputs": [],
   "source": [
    "combined_df\n",
    "combined_df = combined_df"
   ]
  },
  {
   "cell_type": "code",
   "execution_count": null,
   "id": "5ebbbf37-9bdd-449b-87ca-079d5619468c",
   "metadata": {},
   "outputs": [],
   "source": [
    "combined_df.to_csv('test.csv')"
   ]
  },
  {
   "cell_type": "code",
   "execution_count": null,
   "id": "66356094-0244-4eda-9569-eb127faed3ba",
   "metadata": {},
   "outputs": [],
   "source": [
    "combined_df.dropna()"
   ]
  },
  {
   "cell_type": "code",
   "execution_count": null,
   "id": "0f5f286c-5641-4efd-93d5-88d6858cb626",
   "metadata": {},
   "outputs": [],
   "source": [
    "#combined_df=combined_df.dropna()"
   ]
  },
  {
   "cell_type": "markdown",
   "id": "e51dbb71-d707-41b8-97fb-bca6b0b04f7c",
   "metadata": {},
   "source": [
    "combined_df"
   ]
  },
  {
   "cell_type": "code",
   "execution_count": null,
   "id": "27571c36-ebf4-406c-bbd6-26a994c03d6f",
   "metadata": {},
   "outputs": [],
   "source": [
    "combined_df.to_csv('combined_df.csv')"
   ]
  },
  {
   "cell_type": "code",
   "execution_count": null,
   "id": "de05938d-e56f-4a3c-9694-1c9dd075db95",
   "metadata": {},
   "outputs": [],
   "source": []
  }
 ],
 "metadata": {
  "kernelspec": {
   "display_name": "Python 3 (ipykernel)",
   "language": "python",
   "name": "python3"
  },
  "language_info": {
   "codemirror_mode": {
    "name": "ipython",
    "version": 3
   },
   "file_extension": ".py",
   "mimetype": "text/x-python",
   "name": "python",
   "nbconvert_exporter": "python",
   "pygments_lexer": "ipython3",
   "version": "3.10.12"
  }
 },
 "nbformat": 4,
 "nbformat_minor": 5
}
